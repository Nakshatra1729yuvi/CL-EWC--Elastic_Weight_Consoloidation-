{
  "nbformat": 4,
  "nbformat_minor": 0,
  "metadata": {
    "colab": {
      "provenance": [],
      "gpuType": "T4"
    },
    "kernelspec": {
      "name": "python3",
      "display_name": "Python 3"
    },
    "language_info": {
      "name": "python"
    },
    "accelerator": "GPU"
  },
  "cells": [
    {
      "cell_type": "code",
      "execution_count": 151,
      "metadata": {
        "id": "wT3VtN7GLRHe"
      },
      "outputs": [],
      "source": [
        "import torch\n",
        "import torch.nn as nn\n",
        "import torch.nn.functional as F\n",
        "from torchvision import datasets, transforms\n",
        "from torch.utils.data import DataLoader\n",
        "from tqdm import tqdm\n",
        "# --------------------------------------------------------------\n",
        "# Config\n",
        "# --------------------------------------------------------------\n",
        "BATCH_SIZE = 512\n",
        "\n",
        "device=torch.device(\"cuda\" if torch.cuda.is_available() else \"cpu\")\n",
        "\n",
        "# --------------------------------------------------------------\n",
        "# Dataset + Masking Module\n",
        "# --------------------------------------------------------------\n",
        "transform = transforms.Compose([\n",
        "    transforms.ToTensor(),\n",
        "])\n",
        "\n"
      ]
    },
    {
      "cell_type": "code",
      "source": [
        "train_data = datasets.FashionMNIST(root=\"./data\", train=True, download=True, transform=transform)\n",
        "train_loader = DataLoader(train_data, batch_size=BATCH_SIZE, shuffle=True)\n",
        "test_data = datasets.FashionMNIST(root=\"./data\", train=False, download=True, transform=transform)\n",
        "test_loader = DataLoader(test_data, batch_size=BATCH_SIZE, shuffle=True)\n"
      ],
      "metadata": {
        "id": "8gcgTJyjLuc5"
      },
      "execution_count": 152,
      "outputs": []
    },
    {
      "cell_type": "code",
      "source": [
        "train_data2 = datasets.MNIST(root=\"./data\", train=True, download=True, transform=transform)\n",
        "train_loader2 = DataLoader(train_data2, batch_size=BATCH_SIZE, shuffle=True)\n",
        "test_data2 = datasets.MNIST(root=\"./data\", train=False, download=True, transform=transform)\n",
        "test_loader2 = DataLoader(test_data2, batch_size=BATCH_SIZE, shuffle=True)\n"
      ],
      "metadata": {
        "id": "wNC9_IkYLwhz"
      },
      "execution_count": 153,
      "outputs": []
    },
    {
      "cell_type": "code",
      "source": [
        "class SimpleCNN(nn.Module):\n",
        "  def __init__(self,dim,out_feat):\n",
        "    super().__init__()\n",
        "    self.net=nn.Sequential(\n",
        "        nn.Conv2d(1,32,kernel_size=3,stride=2,padding=1),\n",
        "        nn.ReLU(),\n",
        "        nn.Conv2d(32,64,kernel_size=3,stride=2,padding=1),\n",
        "        nn.ReLU(),\n",
        "        nn.Flatten(),\n",
        "        nn.Linear(64*7*7,dim),\n",
        "        nn.ReLU(),\n",
        "        nn.Linear(dim,out_feat)\n",
        "    )\n",
        "  def forward(self,x):\n",
        "    return self.net(x)"
      ],
      "metadata": {
        "id": "ki1VwPkjL2-R"
      },
      "execution_count": 154,
      "outputs": []
    },
    {
      "cell_type": "code",
      "source": [
        "model=SimpleCNN(dim=768,out_feat=10).to(device)\n",
        "opt=torch.optim.Adam(model.parameters(),lr=1e-3)\n",
        "crit=nn.CrossEntropyLoss()"
      ],
      "metadata": {
        "id": "pPwEO2lfMM1j"
      },
      "execution_count": 155,
      "outputs": []
    },
    {
      "cell_type": "code",
      "source": [
        "for epoch in range(2):\n",
        "  for x,y in tqdm(train_loader):\n",
        "    x,y=x.to(device),y.to(device)\n",
        "    preds=model(x)\n",
        "    loss=crit(preds,y)\n",
        "    opt.zero_grad()\n",
        "    loss.backward()\n",
        "    opt.step()\n"
      ],
      "metadata": {
        "colab": {
          "base_uri": "https://localhost:8080/"
        },
        "id": "WS39LYF6MyhU",
        "outputId": "9586a321-1894-4d07-ec26-f856d5463ddb"
      },
      "execution_count": 156,
      "outputs": [
        {
          "output_type": "stream",
          "name": "stderr",
          "text": [
            "100%|██████████| 118/118 [00:06<00:00, 17.37it/s]\n",
            "100%|██████████| 118/118 [00:06<00:00, 19.17it/s]\n"
          ]
        }
      ]
    },
    {
      "cell_type": "code",
      "source": [
        "def validation(loader):\n",
        "  total=0\n",
        "  correct=0\n",
        "  for x,y in loader:\n",
        "    x,y=x.to(device),y.to(device)\n",
        "    preds=model(x)\n",
        "    score=torch.argmax(preds,dim=1)\n",
        "    correct+=(score==y).sum().item()\n",
        "    total+=len(y)\n",
        "  return correct*100/total\n"
      ],
      "metadata": {
        "id": "7tXkb1V1N4hy"
      },
      "execution_count": 157,
      "outputs": []
    },
    {
      "cell_type": "code",
      "source": [
        "acc=validation(test_loader)\n",
        "acc"
      ],
      "metadata": {
        "colab": {
          "base_uri": "https://localhost:8080/"
        },
        "id": "bMERBe5tO6Gi",
        "outputId": "2e94b4d1-93ae-478c-87dd-c734902b0572"
      },
      "execution_count": 158,
      "outputs": [
        {
          "output_type": "execute_result",
          "data": {
            "text/plain": [
              "86.34"
            ]
          },
          "metadata": {},
          "execution_count": 158
        }
      ]
    },
    {
      "cell_type": "markdown",
      "source": [
        "# ***EWC***"
      ],
      "metadata": {
        "id": "TDJRTgR_SBP6"
      }
    },
    {
      "cell_type": "code",
      "source": [
        "model.eval()\n",
        "fisher={n:torch.zeros_like(p) for n,p in model.named_parameters()}\n",
        "for x,y in tqdm(train_loader):\n",
        "  x,y=x.to(device),y.to(device)\n",
        "  loss=crit(model(x),y)\n",
        "  loss.backward()\n",
        "  for n,p in model.named_parameters():\n",
        "    if p.grad is not None:\n",
        "      fisher[n]+=(p.grad.detach()**2)\n",
        "for n,p in model.named_parameters():\n",
        "  fisher[n]/=len(train_loader)\n",
        "\n",
        "old_params={n:p.clone().detach() for n,p in model.named_parameters()}"
      ],
      "metadata": {
        "colab": {
          "base_uri": "https://localhost:8080/"
        },
        "id": "1OvrTkajSHYq",
        "outputId": "804971c4-05c8-4334-ae85-4ae181bd9f1f"
      },
      "execution_count": 159,
      "outputs": [
        {
          "output_type": "stream",
          "name": "stderr",
          "text": [
            "100%|██████████| 118/118 [00:06<00:00, 17.29it/s]\n"
          ]
        }
      ]
    },
    {
      "cell_type": "code",
      "source": [
        "ewc_lambda=10000"
      ],
      "metadata": {
        "id": "7obLEj2fXMDf"
      },
      "execution_count": 160,
      "outputs": []
    },
    {
      "cell_type": "code",
      "source": [
        "opt=torch.optim.Adam(model.parameters(),lr=1e-3)"
      ],
      "metadata": {
        "id": "cYfjc0xe79j4"
      },
      "execution_count": 161,
      "outputs": []
    },
    {
      "cell_type": "code",
      "source": [
        "for epoch in range(2):\n",
        "  for x,y in tqdm(train_loader2):\n",
        "    x,y=x.to(device),y.to(device)\n",
        "    preds=model(x)\n",
        "    loss=crit(preds,y)\n",
        "    ewc_loss=0\n",
        "    for n,p in model.named_parameters():\n",
        "      if n in fisher:\n",
        "        ewc_loss+=(fisher[n]*(p-old_params[n])**2).sum()\n",
        "    loss=loss+(ewc_lambda/2)*ewc_loss\n",
        "    opt.zero_grad()\n",
        "    loss.backward()\n",
        "    opt.step()\n"
      ],
      "metadata": {
        "colab": {
          "base_uri": "https://localhost:8080/"
        },
        "id": "gmkB7nPKWV2B",
        "outputId": "190a9fbb-5c50-4203-bcb0-b5dda1dbc344"
      },
      "execution_count": 162,
      "outputs": [
        {
          "output_type": "stream",
          "name": "stderr",
          "text": [
            "100%|██████████| 118/118 [00:06<00:00, 17.86it/s]\n",
            "100%|██████████| 118/118 [00:06<00:00, 17.89it/s]\n"
          ]
        }
      ]
    },
    {
      "cell_type": "code",
      "source": [
        "acc=validation(test_loader)\n",
        "acc"
      ],
      "metadata": {
        "colab": {
          "base_uri": "https://localhost:8080/"
        },
        "id": "WRqYuGnHYooM",
        "outputId": "3ee84002-ee92-475b-d31a-69fb22be60a0"
      },
      "execution_count": 163,
      "outputs": [
        {
          "output_type": "execute_result",
          "data": {
            "text/plain": [
              "62.9"
            ]
          },
          "metadata": {},
          "execution_count": 163
        }
      ]
    },
    {
      "cell_type": "code",
      "source": [
        "acc=validation(test_loader2)\n",
        "acc"
      ],
      "metadata": {
        "colab": {
          "base_uri": "https://localhost:8080/"
        },
        "id": "665E_GNtYpSQ",
        "outputId": "e07a5320-ba9c-432c-98ec-741d8f074f3b"
      },
      "execution_count": 164,
      "outputs": [
        {
          "output_type": "execute_result",
          "data": {
            "text/plain": [
              "91.16"
            ]
          },
          "metadata": {},
          "execution_count": 164
        }
      ]
    }
  ]
}