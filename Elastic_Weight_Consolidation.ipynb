{
  "nbformat": 4,
  "nbformat_minor": 0,
  "metadata": {
    "colab": {
      "provenance": []
    },
    "kernelspec": {
      "name": "python3",
      "display_name": "Python 3"
    },
    "language_info": {
      "name": "python"
    }
  },
  "cells": [
    {
      "cell_type": "code",
      "execution_count": 45,
      "metadata": {
        "id": "wT3VtN7GLRHe"
      },
      "outputs": [],
      "source": [
        "import torch\n",
        "import torch.nn as nn\n",
        "import torch.nn.functional as F\n",
        "from torchvision import datasets, transforms\n",
        "from torch.utils.data import DataLoader\n",
        "from tqdm import tqdm\n",
        "# --------------------------------------------------------------\n",
        "# Config\n",
        "# --------------------------------------------------------------\n",
        "BATCH_SIZE = 512\n",
        "\n",
        "device=torch.device(\"cuda\" if torch.cuda.is_available() else \"cpu\")\n",
        "\n",
        "# --------------------------------------------------------------\n",
        "# Dataset + Masking Module\n",
        "# --------------------------------------------------------------\n",
        "transform = transforms.Compose([\n",
        "    transforms.ToTensor(),\n",
        "])\n",
        "\n"
      ]
    },
    {
      "cell_type": "code",
      "source": [
        "train_data = datasets.FashionMNIST(root=\"./data\", train=True, download=True, transform=transform)\n",
        "train_loader = DataLoader(train_data, batch_size=BATCH_SIZE, shuffle=True)\n",
        "test_data = datasets.FashionMNIST(root=\"./data\", train=False, download=True, transform=transform)\n",
        "test_loader = DataLoader(test_data, batch_size=BATCH_SIZE, shuffle=True)\n"
      ],
      "metadata": {
        "id": "8gcgTJyjLuc5"
      },
      "execution_count": 46,
      "outputs": []
    },
    {
      "cell_type": "code",
      "source": [
        "train_data2 = datasets.MNIST(root=\"./data\", train=True, download=True, transform=transform)\n",
        "train_loader2 = DataLoader(train_data2, batch_size=BATCH_SIZE, shuffle=True)\n",
        "test_data2 = datasets.MNIST(root=\"./data\", train=False, download=True, transform=transform)\n",
        "test_loader2 = DataLoader(test_data2, batch_size=BATCH_SIZE, shuffle=True)\n"
      ],
      "metadata": {
        "id": "wNC9_IkYLwhz"
      },
      "execution_count": 47,
      "outputs": []
    },
    {
      "cell_type": "code",
      "source": [
        "class SimpleCNN(nn.Module):\n",
        "  def __init__(self,dim,out_feat):\n",
        "    super().__init__()\n",
        "    self.net=nn.Sequential(\n",
        "        nn.Conv2d(1,32,kernel_size=3,stride=2,padding=1),\n",
        "        nn.ReLU(),\n",
        "        nn.Conv2d(32,64,kernel_size=3,stride=2,padding=1),\n",
        "        nn.ReLU(),\n",
        "        nn.Flatten(),\n",
        "        nn.Linear(64*7*7,dim),\n",
        "        nn.ReLU(),\n",
        "        nn.Linear(dim,out_feat)\n",
        "    )\n",
        "  def forward(self,x):\n",
        "    return self.net(x)"
      ],
      "metadata": {
        "id": "ki1VwPkjL2-R"
      },
      "execution_count": 48,
      "outputs": []
    },
    {
      "cell_type": "code",
      "source": [
        "model=SimpleCNN(dim=768,out_feat=10).to(device)\n",
        "opt=torch.optim.Adam(model.parameters(),lr=1e-3)\n",
        "crit=nn.CrossEntropyLoss()"
      ],
      "metadata": {
        "id": "pPwEO2lfMM1j"
      },
      "execution_count": 49,
      "outputs": []
    },
    {
      "cell_type": "code",
      "source": [
        "for epoch in range(1):\n",
        "  for x,y in tqdm(train_loader):\n",
        "    x,y=x.to(device),y.to(device)\n",
        "    preds=model(x)\n",
        "    loss=crit(preds,y)\n",
        "    opt.zero_grad()\n",
        "    loss.backward()\n",
        "    opt.step()\n"
      ],
      "metadata": {
        "colab": {
          "base_uri": "https://localhost:8080/"
        },
        "id": "WS39LYF6MyhU",
        "outputId": "d4e09ecb-7743-4f6a-854c-e275649fdef1"
      },
      "execution_count": 59,
      "outputs": [
        {
          "output_type": "stream",
          "name": "stderr",
          "text": [
            "100%|██████████| 118/118 [00:45<00:00,  2.61it/s]\n"
          ]
        }
      ]
    },
    {
      "cell_type": "code",
      "source": [
        "def validation(loader):\n",
        "  total=0\n",
        "  correct=0\n",
        "  for x,y in loader:\n",
        "    x,y=x.to(device),y.to(device)\n",
        "    preds=model(x)\n",
        "    score=torch.argmax(preds,dim=1)\n",
        "    correct+=(score==y).sum().item()\n",
        "    total+=len(y)\n",
        "  return correct*100/total\n"
      ],
      "metadata": {
        "id": "7tXkb1V1N4hy"
      },
      "execution_count": 60,
      "outputs": []
    },
    {
      "cell_type": "code",
      "source": [
        "acc=validation(test_loader)\n",
        "acc"
      ],
      "metadata": {
        "colab": {
          "base_uri": "https://localhost:8080/"
        },
        "id": "bMERBe5tO6Gi",
        "outputId": "8444c4fd-0398-4a83-89a9-d561c8ee5ee5"
      },
      "execution_count": 61,
      "outputs": [
        {
          "output_type": "execute_result",
          "data": {
            "text/plain": [
              "86.17"
            ]
          },
          "metadata": {},
          "execution_count": 61
        }
      ]
    },
    {
      "cell_type": "markdown",
      "source": [
        "# ***EWC***"
      ],
      "metadata": {
        "id": "TDJRTgR_SBP6"
      }
    },
    {
      "cell_type": "code",
      "source": [
        "model.eval()\n",
        "fisher={n:torch.zeros_like(p) for n,p in model.named_parameters()}\n",
        "for x,y in tqdm(train_loader):\n",
        "  x,y=x.to(device),y.to(device)\n",
        "  loss=crit(model(x),y)\n",
        "  loss.backward()\n",
        "  for n,p in model.named_parameters():\n",
        "    if p.grad is not None:\n",
        "      fisher[n]+=(p.grad.detach()**2)\n",
        "for n,p in model.named_parameters():\n",
        "  fisher[n]/=len(train_loader)\n",
        "\n",
        "old_params={n:p.clone().detach() for n,p in model.named_parameters()}"
      ],
      "metadata": {
        "colab": {
          "base_uri": "https://localhost:8080/"
        },
        "id": "1OvrTkajSHYq",
        "outputId": "c59990d1-b5b5-43dd-bec5-d46fa13e05fd"
      },
      "execution_count": 62,
      "outputs": [
        {
          "output_type": "stream",
          "name": "stderr",
          "text": [
            "100%|██████████| 118/118 [00:40<00:00,  2.95it/s]\n"
          ]
        }
      ]
    },
    {
      "cell_type": "code",
      "source": [
        "ewc_lambda=10000"
      ],
      "metadata": {
        "id": "7obLEj2fXMDf"
      },
      "execution_count": 63,
      "outputs": []
    },
    {
      "cell_type": "code",
      "source": [
        "for epoch in range(1):\n",
        "  for x,y in tqdm(train_loader2):\n",
        "    x,y=x.to(device),y.to(device)\n",
        "    preds=model(x)\n",
        "    loss=crit(preds,y)\n",
        "    ewc_loss=0\n",
        "    for n,p in model.named_parameters():\n",
        "      if n in fisher:\n",
        "        ewc_loss+=(fisher[n]*(p-old_params[n])**2).sum()\n",
        "    loss=loss+(ewc_lambda/2)*ewc_loss\n",
        "    opt.zero_grad()\n",
        "    loss.backward()\n",
        "    opt.step()\n"
      ],
      "metadata": {
        "colab": {
          "base_uri": "https://localhost:8080/"
        },
        "id": "gmkB7nPKWV2B",
        "outputId": "f6a18faf-5984-4956-aa2e-0f4461839b6f"
      },
      "execution_count": 64,
      "outputs": [
        {
          "output_type": "stream",
          "name": "stderr",
          "text": [
            "100%|██████████| 118/118 [00:47<00:00,  2.50it/s]\n"
          ]
        }
      ]
    },
    {
      "cell_type": "code",
      "source": [
        "acc=validation(test_loader)\n",
        "acc"
      ],
      "metadata": {
        "colab": {
          "base_uri": "https://localhost:8080/"
        },
        "id": "WRqYuGnHYooM",
        "outputId": "0571ac60-e700-45a3-bdb6-c19aa724167b"
      },
      "execution_count": 65,
      "outputs": [
        {
          "output_type": "execute_result",
          "data": {
            "text/plain": [
              "81.56"
            ]
          },
          "metadata": {},
          "execution_count": 65
        }
      ]
    },
    {
      "cell_type": "code",
      "source": [
        "acc=validation(test_loader2)\n",
        "acc"
      ],
      "metadata": {
        "colab": {
          "base_uri": "https://localhost:8080/"
        },
        "id": "665E_GNtYpSQ",
        "outputId": "cb9ac363-345a-437f-d6df-564914c8f96d"
      },
      "execution_count": 66,
      "outputs": [
        {
          "output_type": "execute_result",
          "data": {
            "text/plain": [
              "96.89"
            ]
          },
          "metadata": {},
          "execution_count": 66
        }
      ]
    }
  ]
}